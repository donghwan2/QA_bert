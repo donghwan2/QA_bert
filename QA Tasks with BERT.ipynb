{
 "cells": [
  {
   "cell_type": "code",
   "execution_count": 1,
   "id": "cfab9f63",
   "metadata": {},
   "outputs": [],
   "source": [
    "from transformers import pipeline\n",
    "import pandas as pd\n",
    "import numpy as np"
   ]
  },
  {
   "cell_type": "markdown",
   "id": "d2f6c7bf",
   "metadata": {},
   "source": [
    "# Transformers pipeline으로 QA task"
   ]
  },
  {
   "cell_type": "code",
   "execution_count": 2,
   "id": "5bf14a40",
   "metadata": {
    "scrolled": true
   },
   "outputs": [
    {
     "name": "stderr",
     "output_type": "stream",
     "text": [
      "No model was supplied, defaulted to distilbert-base-cased-distilled-squad (https://huggingface.co/distilbert-base-cased-distilled-squad)\n"
     ]
    },
    {
     "data": {
      "application/vnd.jupyter.widget-view+json": {
       "model_id": "f8012cb244354535b201bfaf6ced78ae",
       "version_major": 2,
       "version_minor": 0
      },
      "text/plain": [
       "Downloading:   0%|          | 0.00/473 [00:00<?, ?B/s]"
      ]
     },
     "metadata": {},
     "output_type": "display_data"
    },
    {
     "data": {
      "application/vnd.jupyter.widget-view+json": {
       "model_id": "d2473aa3719645f1b590a138505223ff",
       "version_major": 2,
       "version_minor": 0
      },
      "text/plain": [
       "Downloading:   0%|          | 0.00/249M [00:00<?, ?B/s]"
      ]
     },
     "metadata": {},
     "output_type": "display_data"
    },
    {
     "data": {
      "application/vnd.jupyter.widget-view+json": {
       "model_id": "7801ae3a6f484cdca6d76be1f1176302",
       "version_major": 2,
       "version_minor": 0
      },
      "text/plain": [
       "Downloading:   0%|          | 0.00/29.0 [00:00<?, ?B/s]"
      ]
     },
     "metadata": {},
     "output_type": "display_data"
    },
    {
     "data": {
      "application/vnd.jupyter.widget-view+json": {
       "model_id": "da1f202fea3848db899c59f15b58d51e",
       "version_major": 2,
       "version_minor": 0
      },
      "text/plain": [
       "Downloading:   0%|          | 0.00/208k [00:00<?, ?B/s]"
      ]
     },
     "metadata": {},
     "output_type": "display_data"
    },
    {
     "data": {
      "application/vnd.jupyter.widget-view+json": {
       "model_id": "b99f432dd9bd4f4da8d2cdb3987ed6f7",
       "version_major": 2,
       "version_minor": 0
      },
      "text/plain": [
       "Downloading:   0%|          | 0.00/426k [00:00<?, ?B/s]"
      ]
     },
     "metadata": {},
     "output_type": "display_data"
    },
    {
     "data": {
      "text/plain": [
       "<transformers.pipelines.question_answering.QuestionAnsweringPipeline at 0x7f8878471850>"
      ]
     },
     "execution_count": 2,
     "metadata": {},
     "output_type": "execute_result"
    }
   ],
   "source": [
    "qa = pipeline('question-answering')\n",
    "qa"
   ]
  },
  {
   "cell_type": "code",
   "execution_count": 3,
   "id": "28b4dc61",
   "metadata": {
    "scrolled": true
   },
   "outputs": [
    {
     "data": {
      "text/plain": [
       "'\\nYoun Yuh-jung (born June 19, 1947) is a South Korean actress, whose career in film and television spans over five decades. Her accolades include an Academy Award.\\n'"
      ]
     },
     "execution_count": 3,
     "metadata": {},
     "output_type": "execute_result"
    }
   ],
   "source": [
    "context = \"\"\"\n",
    "Youn Yuh-jung (born June 19, 1947) is a South Korean actress, \\\n",
    "whose career in film and television spans over five decades. \\\n",
    "Her accolades include an Academy Award.\n",
    "\"\"\"\n",
    "\n",
    "context"
   ]
  },
  {
   "cell_type": "raw",
   "id": "eba6b299",
   "metadata": {},
   "source": [
    "윤여정(1947년 6월 19일 ~ )은 대한민국의 배우이다.\n",
    "그의 영화 및 텔레비전 경력은 50년이 넘습니다.\n",
    "그녀의 영예에는 아카데미 상이 포함됩니다."
   ]
  },
  {
   "cell_type": "code",
   "execution_count": 4,
   "id": "098b7aed",
   "metadata": {},
   "outputs": [
    {
     "data": {
      "text/plain": [
       "{'score': 0.7455785274505615, 'start': 54, 'end': 61, 'answer': 'actress'}"
      ]
     },
     "execution_count": 4,
     "metadata": {},
     "output_type": "execute_result"
    }
   ],
   "source": [
    "qa(question=\"What is her job?\", context=context)"
   ]
  },
  {
   "cell_type": "code",
   "execution_count": 5,
   "id": "d67fbb55",
   "metadata": {},
   "outputs": [
    {
     "data": {
      "text/plain": [
       "{'score': 0.6411081552505493,\n",
       " 'start': 149,\n",
       " 'end': 162,\n",
       " 'answer': 'Academy Award'}"
      ]
     },
     "execution_count": 5,
     "metadata": {},
     "output_type": "execute_result"
    }
   ],
   "source": [
    "qa(question=\"What did she win?\", context=context)"
   ]
  },
  {
   "cell_type": "code",
   "execution_count": 6,
   "id": "61813109",
   "metadata": {},
   "outputs": [
    {
     "data": {
      "text/plain": [
       "{'score': 0.966539740562439, 'start': 21, 'end': 34, 'answer': 'June 19, 1947'}"
      ]
     },
     "execution_count": 6,
     "metadata": {},
     "output_type": "execute_result"
    }
   ],
   "source": [
    "qa(question=\"When was she born?\", context=context)"
   ]
  },
  {
   "cell_type": "markdown",
   "id": "b7e95b4a",
   "metadata": {},
   "source": [
    "# BERT 모형 지정해서 pipeline 만들기"
   ]
  },
  {
   "cell_type": "code",
   "execution_count": 7,
   "id": "d266dac2",
   "metadata": {},
   "outputs": [],
   "source": [
    "from transformers import AutoTokenizer, TFAutoModelForQuestionAnswering, QuestionAnsweringPipeline"
   ]
  },
  {
   "cell_type": "markdown",
   "id": "6e917e4f",
   "metadata": {},
   "source": [
    "## fine-tunning 안 된 모형(기본 BERT 모형)"
   ]
  },
  {
   "cell_type": "raw",
   "id": "8aa185a4",
   "metadata": {},
   "source": [
    "윤여정 배우에 대한 fine-tunnig 학습이 제대로 안 되어 있기 때문에 QA task를 수행하지 못함"
   ]
  },
  {
   "cell_type": "code",
   "execution_count": 8,
   "id": "b4953bc3",
   "metadata": {},
   "outputs": [
    {
     "name": "stderr",
     "output_type": "stream",
     "text": [
      "All model checkpoint layers were used when initializing TFBertForQuestionAnswering.\n",
      "\n",
      "Some layers of TFBertForQuestionAnswering were not initialized from the model checkpoint at bert-base-uncased and are newly initialized: ['qa_outputs']\n",
      "You should probably TRAIN this model on a down-stream task to be able to use it for predictions and inference.\n"
     ]
    }
   ],
   "source": [
    "model = TFAutoModelForQuestionAnswering.from_pretrained(\"bert-base-uncased\")\n",
    "tokenizer = AutoTokenizer.from_pretrained('bert-base-uncased')"
   ]
  },
  {
   "cell_type": "code",
   "execution_count": 9,
   "id": "507b3392",
   "metadata": {},
   "outputs": [],
   "source": [
    "qa = QuestionAnsweringPipeline(model=model, tokenizer=tokenizer)"
   ]
  },
  {
   "cell_type": "code",
   "execution_count": 10,
   "id": "111a1e0f",
   "metadata": {},
   "outputs": [
    {
     "data": {
      "text/plain": [
       "{'score': 0.0014940481632947922,\n",
       " 'start': 34,\n",
       " 'end': 68,\n",
       " 'answer': ') is a South Korean actress, whose'}"
      ]
     },
     "execution_count": 10,
     "metadata": {},
     "output_type": "execute_result"
    }
   ],
   "source": [
    "qa(question=\"What is her job?\", context=context)"
   ]
  },
  {
   "cell_type": "code",
   "execution_count": 11,
   "id": "a9a95cda",
   "metadata": {},
   "outputs": [
    {
     "data": {
      "text/plain": [
       "{'score': 0.0015136413276195526,\n",
       " 'start': 34,\n",
       " 'end': 68,\n",
       " 'answer': ') is a South Korean actress, whose'}"
      ]
     },
     "execution_count": 11,
     "metadata": {},
     "output_type": "execute_result"
    }
   ],
   "source": [
    "qa(question=\"What did she win?\", context=context)"
   ]
  },
  {
   "cell_type": "code",
   "execution_count": 12,
   "id": "a1a94349",
   "metadata": {},
   "outputs": [
    {
     "data": {
      "text/plain": [
       "{'score': 0.0015169153921306133,\n",
       " 'start': 34,\n",
       " 'end': 68,\n",
       " 'answer': ') is a South Korean actress, whose'}"
      ]
     },
     "execution_count": 12,
     "metadata": {},
     "output_type": "execute_result"
    }
   ],
   "source": [
    "qa(question=\"When was she born?\", context=context)"
   ]
  },
  {
   "cell_type": "markdown",
   "id": "298c95fa",
   "metadata": {},
   "source": [
    "## fine-tunning 된 모형"
   ]
  },
  {
   "cell_type": "raw",
   "id": "59978a84",
   "metadata": {},
   "source": [
    "윤여정 배우에 대한 텍스트(context)로 fine-tunning 되기 때문에 QA task를 제대로 수행할 수 있다."
   ]
  },
  {
   "cell_type": "code",
   "execution_count": 15,
   "id": "e8cd4a85",
   "metadata": {},
   "outputs": [
    {
     "name": "stderr",
     "output_type": "stream",
     "text": [
      "Some layers from the model checkpoint at distilbert-base-cased-distilled-squad were not used when initializing TFDistilBertForQuestionAnswering: ['dropout_19']\n",
      "- This IS expected if you are initializing TFDistilBertForQuestionAnswering from the checkpoint of a model trained on another task or with another architecture (e.g. initializing a BertForSequenceClassification model from a BertForPreTraining model).\n",
      "- This IS NOT expected if you are initializing TFDistilBertForQuestionAnswering from the checkpoint of a model that you expect to be exactly identical (initializing a BertForSequenceClassification model from a BertForSequenceClassification model).\n",
      "Some layers of TFDistilBertForQuestionAnswering were not initialized from the model checkpoint at distilbert-base-cased-distilled-squad and are newly initialized: ['dropout_76']\n",
      "You should probably TRAIN this model on a down-stream task to be able to use it for predictions and inference.\n"
     ]
    }
   ],
   "source": [
    "# distilbert 모델 : 매개변수 개수가 40% 적고 실행 속도는 60% 빠른 반면, BERT 성능의 97%를 보여줍니다.\n",
    "model = TFAutoModelForQuestionAnswering.from_pretrained(\"distilbert-base-cased-distilled-squad\")\n",
    "tokenizer = AutoTokenizer.from_pretrained('distilbert-base-cased-distilled-squad')"
   ]
  },
  {
   "cell_type": "code",
   "execution_count": 16,
   "id": "eafbe7d5",
   "metadata": {},
   "outputs": [
    {
     "data": {
      "text/plain": [
       "{'score': 0.7455775141716003, 'start': 54, 'end': 61, 'answer': 'actress'}"
      ]
     },
     "execution_count": 16,
     "metadata": {},
     "output_type": "execute_result"
    }
   ],
   "source": [
    "qa = QuestionAnsweringPipeline(model=model, tokenizer=tokenizer)\n",
    "qa(question=\"What is her job?\", context=context)"
   ]
  },
  {
   "cell_type": "code",
   "execution_count": 17,
   "id": "772d9739",
   "metadata": {},
   "outputs": [
    {
     "data": {
      "text/plain": [
       "{'score': 0.6411081552505493,\n",
       " 'start': 149,\n",
       " 'end': 162,\n",
       " 'answer': 'Academy Award'}"
      ]
     },
     "execution_count": 17,
     "metadata": {},
     "output_type": "execute_result"
    }
   ],
   "source": [
    "qa(question=\"What did she win?\", context=context)"
   ]
  },
  {
   "cell_type": "code",
   "execution_count": 18,
   "id": "1840434e",
   "metadata": {},
   "outputs": [
    {
     "data": {
      "text/plain": [
       "{'score': 0.966539740562439, 'start': 21, 'end': 34, 'answer': 'June 19, 1947'}"
      ]
     },
     "execution_count": 18,
     "metadata": {},
     "output_type": "execute_result"
    }
   ],
   "source": [
    "qa(question=\"When was she born?\", context=context)"
   ]
  },
  {
   "cell_type": "markdown",
   "id": "119054f6",
   "metadata": {},
   "source": [
    "# 수동으로(pipeline 말고) fine-tunning 하기"
   ]
  },
  {
   "cell_type": "code",
   "execution_count": 19,
   "id": "1b1b6af0",
   "metadata": {},
   "outputs": [],
   "source": [
    "import tensorflow as tf"
   ]
  },
  {
   "cell_type": "code",
   "execution_count": 20,
   "id": "66e75093",
   "metadata": {},
   "outputs": [
    {
     "data": {
      "text/plain": [
       "{'input_ids': <tf.Tensor: shape=(1, 48), dtype=int32, numpy=\n",
       "array([[  101,  1327,  1225,  1131,  1782,   136,   102,  1192,  1179,\n",
       "        10684,  1324,   118,   179,  4380,   113,  1255,  1340,  1627,\n",
       "          117,  3138,   114,  1110,   170,  1375,  3947,  3647,   117,\n",
       "         2133,  1578,  1107,  1273,  1105,  1778, 15533,  1166,  1421,\n",
       "         4397,   119,  1430,   170, 14566, 19872,  1511,  1126,  2127,\n",
       "         1698,   119,   102]], dtype=int32)>, 'attention_mask': <tf.Tensor: shape=(1, 48), dtype=int32, numpy=\n",
       "array([[1, 1, 1, 1, 1, 1, 1, 1, 1, 1, 1, 1, 1, 1, 1, 1, 1, 1, 1, 1, 1, 1,\n",
       "        1, 1, 1, 1, 1, 1, 1, 1, 1, 1, 1, 1, 1, 1, 1, 1, 1, 1, 1, 1, 1, 1,\n",
       "        1, 1, 1, 1]], dtype=int32)>}"
      ]
     },
     "execution_count": 20,
     "metadata": {},
     "output_type": "execute_result"
    }
   ],
   "source": [
    "question = 'What did she win?'\n",
    "inputs = tokenizer(question, context, add_special_tokens=True, return_tensors=\"tf\")\n",
    "\n",
    "inputs\n",
    "# 101 : cls(문장 시작) \n",
    "# 102 : sep(문장 구분)"
   ]
  },
  {
   "cell_type": "code",
   "execution_count": 21,
   "id": "6af89aef",
   "metadata": {},
   "outputs": [
    {
     "data": {
      "text/plain": [
       "'[CLS] What did she win? [SEP] Youn Yuh - jung ( born June 19, 1947 ) is a South Korean actress, whose career in film and television spans over five decades. Her accolades include an Academy Award. [SEP]'"
      ]
     },
     "execution_count": 21,
     "metadata": {},
     "output_type": "execute_result"
    }
   ],
   "source": [
    "tokenizer.decode(inputs['input_ids'].numpy()[0])"
   ]
  },
  {
   "cell_type": "code",
   "execution_count": 23,
   "id": "58422fc7",
   "metadata": {},
   "outputs": [
    {
     "data": {
      "text/plain": [
       "TFQuestionAnsweringModelOutput(loss=None, start_logits=<tf.Tensor: shape=(1, 48), dtype=float32, numpy=\n",
       "array([[-3.2587442 , -4.1159697 , -6.1125183 , -5.7539062 , -6.088905  ,\n",
       "        -3.9149244 , -4.392663  , -2.031015  , -5.905589  , -3.8264418 ,\n",
       "        -6.5413895 , -6.29468   , -5.6275845 , -5.9331937 , -5.1946497 ,\n",
       "        -3.7381017 , -2.6977105 , -3.754214  , -5.7128425 , -2.1804988 ,\n",
       "        -4.863438  , -4.760378  , -3.5709014 , -0.47888836, -2.6021464 ,\n",
       "        -1.3134303 , -6.2036543 , -5.0356054 , -4.192493  , -6.555415  ,\n",
       "        -2.4697018 , -7.352499  , -3.1218576 , -5.6631985 , -4.4715033 ,\n",
       "        -3.9809296 , -5.1598773 , -2.9622214 ,  2.0888405 , -0.66598433,\n",
       "        -5.2861366 , -4.834057  , -2.0916882 ,  8.230591  ,  8.933437  ,\n",
       "         1.8657206 , -2.8914979 , -4.3925595 ]], dtype=float32)>, end_logits=<tf.Tensor: shape=(1, 48), dtype=float32, numpy=\n",
       "array([[-0.70956326, -3.6142883 , -6.2601013 , -5.975941  , -6.0352697 ,\n",
       "        -4.777359  , -4.572341  , -4.985676  , -4.364774  , -4.807451  ,\n",
       "        -4.402202  , -5.257727  , -5.4835296 , -1.9583468 , -4.9121027 ,\n",
       "        -4.9395967 , -4.1950397 , -3.3445003 , -3.7768013 , -1.8701817 ,\n",
       "        -1.4572276 , -5.2039137 , -5.8802676 , -4.244822  ,  0.21101578,\n",
       "        -0.70736355, -1.2311883 , -5.643245  , -4.7058463 , -7.4447885 ,\n",
       "        -4.0362296 , -7.168965  , -2.560273  , -6.0628576 , -6.26504   ,\n",
       "        -4.800595  , -1.3798658 ,  0.35461524, -3.1908047 , -6.381059  ,\n",
       "        -5.4437146 , -1.0014514 , -3.8961625 , -0.3924961 ,  3.2645898 ,\n",
       "         9.5714855 ,  6.3379264 , -4.5721464 ]], dtype=float32)>, hidden_states=None, attentions=None)"
      ]
     },
     "execution_count": 23,
     "metadata": {},
     "output_type": "execute_result"
    }
   ],
   "source": [
    "outputs = model(inputs)\n",
    "outputs"
   ]
  },
  {
   "cell_type": "code",
   "execution_count": 24,
   "id": "0da29e49",
   "metadata": {},
   "outputs": [
    {
     "data": {
      "text/plain": [
       "44"
      ]
     },
     "execution_count": 24,
     "metadata": {},
     "output_type": "execute_result"
    }
   ],
   "source": [
    "# 시작 점수가 가장 큰 토큰은 \n",
    "start = tf.argmax(outputs.start_logits, axis=1).numpy()[0]\n",
    "start\n",
    "# 44번째 위치의 토큰"
   ]
  },
  {
   "cell_type": "code",
   "execution_count": 29,
   "id": "296e644b",
   "metadata": {},
   "outputs": [
    {
     "data": {
      "text/plain": [
       "46"
      ]
     },
     "execution_count": 29,
     "metadata": {},
     "output_type": "execute_result"
    }
   ],
   "source": [
    "# 끝 점수가 가장 큰 토큰은 \n",
    "end = tf.argmax(outputs.end_logits, axis=1).numpy()[0] + 1\n",
    "end\n",
    "# 45번째 위치의 토큰. (끝 위치 범위는 +1을 해줘야 됨)"
   ]
  },
  {
   "cell_type": "code",
   "execution_count": 30,
   "id": "17cfdee1",
   "metadata": {},
   "outputs": [
    {
     "data": {
      "text/plain": [
       "'Academy Award'"
      ]
     },
     "execution_count": 30,
     "metadata": {},
     "output_type": "execute_result"
    }
   ],
   "source": [
    "# 시작 토큰과 끝 토큰은 44~45위치의 토큰이 된다.\n",
    "tokenizer.decode(inputs['input_ids'][0, start:end])"
   ]
  },
  {
   "cell_type": "markdown",
   "id": "a976f130",
   "metadata": {},
   "source": [
    "# 한국어 QA task"
   ]
  },
  {
   "cell_type": "markdown",
   "id": "4ec9f8f4",
   "metadata": {},
   "source": [
    "## pipeline 이용해서"
   ]
  },
  {
   "cell_type": "raw",
   "id": "1371b2f2",
   "metadata": {},
   "source": [
    "QA pipeline에 kcbert 모델을 넣어서 한국어 질의 응답을 해봅시다."
   ]
  },
  {
   "cell_type": "code",
   "execution_count": null,
   "id": "bb9b4638",
   "metadata": {},
   "outputs": [],
   "source": [
    "from transformers import AutoTokenizer, TFAutoModelForQuestionAnswering, QuestionAnsweringPipeline\n",
    "import tensorflow as tf"
   ]
  },
  {
   "cell_type": "code",
   "execution_count": 33,
   "id": "bc950148",
   "metadata": {},
   "outputs": [
    {
     "name": "stderr",
     "output_type": "stream",
     "text": [
      "All PyTorch model weights were used when initializing TFBertForQuestionAnswering.\n",
      "\n",
      "Some weights or buffers of the TF 2.0 model TFBertForQuestionAnswering were not initialized from the PyTorch model and are newly initialized: ['qa_outputs.weight', 'qa_outputs.bias']\n",
      "You should probably TRAIN this model on a down-stream task to be able to use it for predictions and inference.\n"
     ]
    }
   ],
   "source": [
    "model = TFAutoModelForQuestionAnswering.from_pretrained('beomi/kcbert-base', from_pt=True)\n",
    "tokenizer = AutoTokenizer.from_pretrained('beomi/kcbert-base')"
   ]
  },
  {
   "cell_type": "code",
   "execution_count": 34,
   "id": "36c123e4",
   "metadata": {},
   "outputs": [],
   "source": [
    "# QA pipeline 세팅\n",
    "qa = QuestionAnsweringPipeline(model=model, tokenizer=tokenizer)"
   ]
  },
  {
   "cell_type": "code",
   "execution_count": 35,
   "id": "cc9f643a",
   "metadata": {},
   "outputs": [],
   "source": [
    "context = '윤여정은 1966년 연극 배우로 연기 경력을 시작하였고, 2021년 영화 《미나리》의 순자 역으로 아카데미 여우조연상을 수상했다.'"
   ]
  },
  {
   "cell_type": "code",
   "execution_count": null,
   "id": "0536c380",
   "metadata": {},
   "outputs": [],
   "source": [
    "question = '윤여정의 직업은?'"
   ]
  },
  {
   "cell_type": "code",
   "execution_count": 37,
   "id": "a3fc878a",
   "metadata": {
    "scrolled": true
   },
   "outputs": [
    {
     "data": {
      "text/plain": [
       "{'score': 0.0025997136253863573, 'start': 42, 'end': 50, 'answer': '미나리》의 순자'}"
      ]
     },
     "execution_count": 37,
     "metadata": {},
     "output_type": "execute_result"
    }
   ],
   "source": [
    "qa(question=question, context=context)"
   ]
  },
  {
   "cell_type": "code",
   "execution_count": null,
   "id": "d5fbf9e4",
   "metadata": {},
   "outputs": [],
   "source": []
  },
  {
   "cell_type": "code",
   "execution_count": null,
   "id": "398b1898",
   "metadata": {},
   "outputs": [],
   "source": []
  },
  {
   "cell_type": "code",
   "execution_count": null,
   "id": "ba73ceee",
   "metadata": {},
   "outputs": [],
   "source": []
  },
  {
   "cell_type": "code",
   "execution_count": null,
   "id": "99da5010",
   "metadata": {},
   "outputs": [],
   "source": []
  }
 ],
 "metadata": {
  "kernelspec": {
   "display_name": "Python 3",
   "language": "python",
   "name": "python3"
  },
  "language_info": {
   "codemirror_mode": {
    "name": "ipython",
    "version": 3
   },
   "file_extension": ".py",
   "mimetype": "text/x-python",
   "name": "python",
   "nbconvert_exporter": "python",
   "pygments_lexer": "ipython3",
   "version": "3.8.8"
  },
  "toc": {
   "base_numbering": 1,
   "nav_menu": {},
   "number_sections": true,
   "sideBar": true,
   "skip_h1_title": false,
   "title_cell": "Table of Contents",
   "title_sidebar": "Contents",
   "toc_cell": false,
   "toc_position": {},
   "toc_section_display": true,
   "toc_window_display": false
  },
  "varInspector": {
   "cols": {
    "lenName": 16,
    "lenType": 16,
    "lenVar": 40
   },
   "kernels_config": {
    "python": {
     "delete_cmd_postfix": "",
     "delete_cmd_prefix": "del ",
     "library": "var_list.py",
     "varRefreshCmd": "print(var_dic_list())"
    },
    "r": {
     "delete_cmd_postfix": ") ",
     "delete_cmd_prefix": "rm(",
     "library": "var_list.r",
     "varRefreshCmd": "cat(var_dic_list()) "
    }
   },
   "types_to_exclude": [
    "module",
    "function",
    "builtin_function_or_method",
    "instance",
    "_Feature"
   ],
   "window_display": false
  }
 },
 "nbformat": 4,
 "nbformat_minor": 5
}

{
 "cells": [
  {
   "cell_type": "code",
   "execution_count": 1,
   "id": "warming-converter",
   "metadata": {},
   "outputs": [
    {
     "data": {
      "text/plain": [
       "'/Users/aiden/Dropbox/Mac/Desktop/[minds]_transformers_bert/3.BERT를 이용한 질의 응답'"
      ]
     },
     "execution_count": 1,
     "metadata": {},
     "output_type": "execute_result"
    }
   ],
   "source": [
    "pwd"
   ]
  },
  {
   "cell_type": "code",
   "execution_count": 11,
   "id": "9259ee0d",
   "metadata": {
    "scrolled": true
   },
   "outputs": [],
   "source": [
    "# !python -m pip install --upgrade pip"
   ]
  },
  {
   "cell_type": "code",
   "execution_count": 2,
   "id": "efb7d295",
   "metadata": {
    "scrolled": true
   },
   "outputs": [],
   "source": [
    "# !pip install tensorflow"
   ]
  },
  {
   "cell_type": "code",
   "execution_count": 10,
   "id": "polished-cambodia",
   "metadata": {
    "scrolled": false
   },
   "outputs": [
    {
     "data": {
      "text/plain": [
       "[name: \"/device:CPU:0\"\n",
       " device_type: \"CPU\"\n",
       " memory_limit: 268435456\n",
       " locality {\n",
       " }\n",
       " incarnation: 9308968656889551614\n",
       " xla_global_id: -1]"
      ]
     },
     "execution_count": 10,
     "metadata": {},
     "output_type": "execute_result"
    }
   ],
   "source": [
    "# gpu 잡히는지 확인\n",
    "from tensorflow.python.client import device_lib\n",
    "device_lib.list_local_devices()"
   ]
  },
  {
   "cell_type": "markdown",
   "id": "80d9cd33",
   "metadata": {},
   "source": [
    "# 1. pipeline 이용해서"
   ]
  },
  {
   "cell_type": "raw",
   "id": "792fe35b",
   "metadata": {},
   "source": [
    "QA pipeline에 kcbert 모델을 넣어서 한국어 질의 응답을 해봅시다."
   ]
  },
  {
   "cell_type": "code",
   "execution_count": 11,
   "id": "342ac950",
   "metadata": {
    "scrolled": true
   },
   "outputs": [],
   "source": [
    "# !pip install transformers"
   ]
  },
  {
   "cell_type": "code",
   "execution_count": 12,
   "id": "9fc1d23a",
   "metadata": {},
   "outputs": [],
   "source": [
    "from transformers import AutoTokenizer, TFAutoModelForQuestionAnswering, QuestionAnsweringPipeline\n",
    "import tensorflow as tf\n",
    "import tqdm.notebook\n",
    "import math"
   ]
  },
  {
   "cell_type": "code",
   "execution_count": 13,
   "id": "5c9927c5",
   "metadata": {
    "scrolled": true
   },
   "outputs": [],
   "source": [
    "# !pip install torch"
   ]
  },
  {
   "cell_type": "code",
   "execution_count": 14,
   "id": "30e86d3b",
   "metadata": {},
   "outputs": [
    {
     "name": "stderr",
     "output_type": "stream",
     "text": [
      "All PyTorch model weights were used when initializing TFBertForQuestionAnswering.\n",
      "\n",
      "Some weights or buffers of the TF 2.0 model TFBertForQuestionAnswering were not initialized from the PyTorch model and are newly initialized: ['qa_outputs.weight', 'qa_outputs.bias']\n",
      "You should probably TRAIN this model on a down-stream task to be able to use it for predictions and inference.\n"
     ]
    }
   ],
   "source": [
    "model = TFAutoModelForQuestionAnswering.from_pretrained('beomi/kcbert-base', from_pt=True)\n",
    "tokenizer = AutoTokenizer.from_pretrained('beomi/kcbert-base')"
   ]
  },
  {
   "cell_type": "code",
   "execution_count": 15,
   "id": "2ee84f41",
   "metadata": {},
   "outputs": [],
   "source": [
    "# QA pipeline 세팅\n",
    "qa = QuestionAnsweringPipeline(model=model, tokenizer=tokenizer)"
   ]
  },
  {
   "cell_type": "markdown",
   "id": "6d8dcfda",
   "metadata": {},
   "source": [
    "## 기본 kcbert 모델로 QA를 하면 어떨까"
   ]
  },
  {
   "cell_type": "code",
   "execution_count": 16,
   "id": "80da4bcf",
   "metadata": {},
   "outputs": [],
   "source": [
    "context = '윤여정은 1966년 연극 배우로 연기 경력을 시작하였고, 2021년 영화 《미나리》의 순자 역으로 아카데미 여우조연상을 수상했다.'"
   ]
  },
  {
   "cell_type": "code",
   "execution_count": 17,
   "id": "3e8255fc",
   "metadata": {},
   "outputs": [],
   "source": [
    "question = '윤여정의 직업은?'"
   ]
  },
  {
   "cell_type": "code",
   "execution_count": 18,
   "id": "edd5533f",
   "metadata": {
    "scrolled": true
   },
   "outputs": [
    {
     "data": {
      "text/plain": [
       "{'score': 0.0032849288545548916,\n",
       " 'start': 60,\n",
       " 'end': 72,\n",
       " 'answer': '여우조연상을 수상했다.'}"
      ]
     },
     "execution_count": 18,
     "metadata": {},
     "output_type": "execute_result"
    }
   ],
   "source": [
    "qa(question=question, context=context)"
   ]
  },
  {
   "cell_type": "code",
   "execution_count": 19,
   "id": "acute-transcript",
   "metadata": {},
   "outputs": [
    {
     "data": {
      "text/plain": [
       "{'score': 0.0032263416796922684,\n",
       " 'start': 60,\n",
       " 'end': 72,\n",
       " 'answer': '여우조연상을 수상했다.'}"
      ]
     },
     "execution_count": 19,
     "metadata": {},
     "output_type": "execute_result"
    }
   ],
   "source": [
    "qa(question='윤여정은 2021년 무엇을 했나?', context=context)"
   ]
  },
  {
   "cell_type": "code",
   "execution_count": 20,
   "id": "committed-actor",
   "metadata": {},
   "outputs": [
    {
     "data": {
      "text/plain": [
       "{'score': 0.0028909421525895596,\n",
       " 'start': 60,\n",
       " 'end': 72,\n",
       " 'answer': '여우조연상을 수상했다.'}"
      ]
     },
     "execution_count": 20,
     "metadata": {},
     "output_type": "execute_result"
    }
   ],
   "source": [
    "qa(question='윤여정의 미나리에서의 역할은?', context=context)"
   ]
  },
  {
   "cell_type": "raw",
   "id": "b6031fdf",
   "metadata": {},
   "source": [
    "아직 학습이 제대로 되지 않아서 QA를 제대로 수행하지 못하는 것을 볼 수 있다.\n",
    "fine tunning을 한다면 결과가 달라지지 않을까?"
   ]
  },
  {
   "cell_type": "markdown",
   "id": "50eea6c2",
   "metadata": {},
   "source": [
    "# 2. korquad QA fine-tunning"
   ]
  },
  {
   "cell_type": "raw",
   "id": "8292466a",
   "metadata": {},
   "source": [
    "korquad 라는 한국어 QA 데이터셋을 추가로 학습시켜보자."
   ]
  },
  {
   "cell_type": "raw",
   "id": "d7da7941",
   "metadata": {},
   "source": [
    "한국어 데이터셋 (korquad) : https://korquad.github.io/"
   ]
  },
  {
   "cell_type": "code",
   "execution_count": 21,
   "id": "451fc6ae",
   "metadata": {},
   "outputs": [
    {
     "name": "stderr",
     "output_type": "stream",
     "text": [
      "All PyTorch model weights were used when initializing TFBertForQuestionAnswering.\n",
      "\n",
      "Some weights or buffers of the TF 2.0 model TFBertForQuestionAnswering were not initialized from the PyTorch model and are newly initialized: ['qa_outputs.weight', 'qa_outputs.bias']\n",
      "You should probably TRAIN this model on a down-stream task to be able to use it for predictions and inference.\n"
     ]
    }
   ],
   "source": [
    "model = TFAutoModelForQuestionAnswering.from_pretrained('beomi/kcbert-base', from_pt=True)\n",
    "tokenizer = AutoTokenizer.from_pretrained('beomi/kcbert-base')"
   ]
  },
  {
   "cell_type": "markdown",
   "id": "250141e3",
   "metadata": {},
   "source": [
    "## 데이터(KorQUAD) 전처리\n"
   ]
  },
  {
   "cell_type": "code",
   "execution_count": 22,
   "id": "b1612854",
   "metadata": {},
   "outputs": [],
   "source": [
    "from transformers import AutoTokenizer, TFAutoModelForQuestionAnswering, QuestionAnsweringPipeline\n",
    "import tensorflow as tf\n",
    "import urllib.request\n",
    "import json"
   ]
  },
  {
   "cell_type": "code",
   "execution_count": 23,
   "id": "6e1237c2",
   "metadata": {},
   "outputs": [
    {
     "data": {
      "text/plain": [
       "('korquad.json', <http.client.HTTPMessage at 0x7fee791f1ca0>)"
      ]
     },
     "execution_count": 23,
     "metadata": {},
     "output_type": "execute_result"
    }
   ],
   "source": [
    "# korquad 파일 다운로드\n",
    "urllib.request.urlretrieve('https://korquad.github.io/dataset/KorQuAD_v1.0_train.json', 'korquad.json')"
   ]
  },
  {
   "cell_type": "code",
   "execution_count": 24,
   "id": "c55b3293",
   "metadata": {},
   "outputs": [],
   "source": [
    "korquad = json.load(open('korquad.json', encoding='utf8'))"
   ]
  },
  {
   "cell_type": "code",
   "execution_count": 25,
   "id": "80215d04",
   "metadata": {},
   "outputs": [
    {
     "data": {
      "text/plain": [
       "1420"
      ]
     },
     "execution_count": 25,
     "metadata": {},
     "output_type": "execute_result"
    }
   ],
   "source": [
    "# korquad 데이터셋 갯수\n",
    "len(korquad['data'])"
   ]
  },
  {
   "cell_type": "code",
   "execution_count": 26,
   "id": "conscious-blake",
   "metadata": {
    "scrolled": false
   },
   "outputs": [
    {
     "data": {
      "text/plain": [
       "{'paragraphs': [{'qas': [{'answers': [{'text': '교향곡', 'answer_start': 54}],\n",
       "     'id': '6566495-0-0',\n",
       "     'question': '바그너는 괴테의 파우스트를 읽고 무엇을 쓰고자 했는가?'},\n",
       "    {'answers': [{'text': '1악장', 'answer_start': 421}],\n",
       "     'id': '6566495-0-1',\n",
       "     'question': '바그너는 교향곡 작곡을 어디까지 쓴 뒤에 중단했는가?'},\n",
       "    {'answers': [{'text': '베토벤의 교향곡 9번', 'answer_start': 194}],\n",
       "     'id': '6566495-0-2',\n",
       "     'question': '바그너가 파우스트 서곡을 쓸 때 어떤 곡의 영향을 받았는가?'},\n",
       "    {'answers': [{'text': '파우스트', 'answer_start': 15}],\n",
       "     'id': '6566518-0-0',\n",
       "     'question': '1839년 바그너가 교향곡의 소재로 쓰려고 했던 책은?'},\n",
       "    {'answers': [{'text': '합창교향곡', 'answer_start': 354}],\n",
       "     'id': '6566518-0-1',\n",
       "     'question': '파우스트 서곡의 라단조 조성이 영향을 받은 베토벤의 곡은?'},\n",
       "    {'answers': [{'text': '1839', 'answer_start': 0}],\n",
       "     'id': '5917067-0-0',\n",
       "     'question': '바그너가 파우스트를 처음으로 읽은 년도는?'},\n",
       "    {'answers': [{'text': '파리', 'answer_start': 410}],\n",
       "     'id': '5917067-0-1',\n",
       "     'question': '바그너가 처음 교향곡 작곡을 한 장소는?'},\n",
       "    {'answers': [{'text': '드레스덴', 'answer_start': 534}],\n",
       "     'id': '5917067-0-2',\n",
       "     'question': '바그너의 1악장의 초연은 어디서 연주되었는가?'}],\n",
       "   'context': '1839년 바그너는 괴테의 파우스트을 처음 읽고 그 내용에 마음이 끌려 이를 소재로 해서 하나의 교향곡을 쓰려는 뜻을 갖는다. 이 시기 바그너는 1838년에 빛 독촉으로 산전수전을 다 걲은 상황이라 좌절과 실망에 가득했으며 메피스토펠레스를 만나는 파우스트의 심경에 공감했다고 한다. 또한 파리에서 아브네크의 지휘로 파리 음악원 관현악단이 연주하는 베토벤의 교향곡 9번을 듣고 깊은 감명을 받았는데, 이것이 이듬해 1월에 파우스트의 서곡으로 쓰여진 이 작품에 조금이라도 영향을 끼쳤으리라는 것은 의심할 여지가 없다. 여기의 라단조 조성의 경우에도 그의 전기에 적혀 있는 것처럼 단순한 정신적 피로나 실의가 반영된 것이 아니라 베토벤의 합창교향곡 조성의 영향을 받은 것을 볼 수 있다. 그렇게 교향곡 작곡을 1839년부터 40년에 걸쳐 파리에서 착수했으나 1악장을 쓴 뒤에 중단했다. 또한 작품의 완성과 동시에 그는 이 서곡(1악장)을 파리 음악원의 연주회에서 연주할 파트보까지 준비하였으나, 실제로는 이루어지지는 않았다. 결국 초연은 4년 반이 지난 후에 드레스덴에서 연주되었고 재연도 이루어졌지만, 이후에 그대로 방치되고 말았다. 그 사이에 그는 리엔치와 방황하는 네덜란드인을 완성하고 탄호이저에도 착수하는 등 분주한 시간을 보냈는데, 그런 바쁜 생활이 이 곡을 잊게 한 것이 아닌가 하는 의견도 있다.'},\n",
       "  {'qas': [{'answers': [{'text': '한스 폰 뷜로', 'answer_start': 402}],\n",
       "     'id': '6566495-1-0',\n",
       "     'question': '바그너의 작품을 시인의 피로 쓰여졌다고 극찬한 것은 누구인가?'},\n",
       "    {'answers': [{'text': '리스트', 'answer_start': 23}],\n",
       "     'id': '6566495-1-1',\n",
       "     'question': '잊혀져 있는 파우스트 서곡 1악장을 부활시킨 것은 누구인가?'},\n",
       "    {'answers': [{'text': '20루이의 금', 'answer_start': 345}],\n",
       "     'id': '6566495-1-2',\n",
       "     'question': '바그너는 다시 개정된 총보를 얼마를 받고 팔았는가?'},\n",
       "    {'answers': [{'text': '리스트', 'answer_start': 23}],\n",
       "     'id': '6566518-1-0',\n",
       "     'question': '파우스트 교향곡을 부활시킨 사람은?'},\n",
       "    {'answers': [{'text': '한스 폰 뷜로', 'answer_start': 402}],\n",
       "     'id': '6566518-1-1',\n",
       "     'question': '파우스트 교향곡을 피아노 독주용으로 편곡한 사람은?'},\n",
       "    {'answers': [{'text': '리스트', 'answer_start': 23}],\n",
       "     'id': '5917067-1-0',\n",
       "     'question': '1악장을 부활시켜 연주한 사람은?'},\n",
       "    {'answers': [{'text': '한스 폰 뷜로', 'answer_start': 402}],\n",
       "     'id': '5917067-1-1',\n",
       "     'question': '파우스트 교향곡에 감탄하여 피아노곡으로 편곡한 사람은?'},\n",
       "    {'answers': [{'text': '1840년', 'answer_start': 3}],\n",
       "     'id': '5917067-1-2',\n",
       "     'question': '리스트가 바그너와 알게 된 연도는?'}],\n",
       "   'context': '한편 1840년부터 바그너와 알고 지내던 리스트가 잊혀져 있던 1악장을 부활시켜 1852년에 바이마르에서 연주했다. 이것을 계기로 바그너도 이 작품에 다시 관심을 갖게 되었고, 그 해 9월에는 총보의 반환을 요구하여 이를 서곡으로 간추린 다음 수정을 했고 브라이트코프흐 & 헤르텔 출판사에서 출판할 개정판도 준비했다. 1853년 5월에는 리스트가 이 작품이 수정되었다는 것을 인정했지만, 끝내 바그너의 출판 계획은 무산되고 말았다. 이후 1855년에 리스트가 자신의 작품 파우스트 교향곡을 거의 완성하여 그 사실을 바그너에게 알렸고, 바그너는 다시 개정된 총보를 리스트에게 보내고 브라이트코프흐 & 헤르텔 출판사에는 20루이의 금을 받고 팔았다. 또한 그의 작품을 “하나하나의 음표가 시인의 피로 쓰여졌다”며 극찬했던 한스 폰 뷜로가 그것을 피아노 독주용으로 편곡했는데, 리스트는 그것을 약간 변형되었을 뿐이라고 지적했다. 이 서곡의 총보 첫머리에는 파우스트 1부의 내용 중 한 구절을 인용하고 있다.'},\n",
       "  {'qas': [{'answers': [{'text': '주제, 동기', 'answer_start': 70}],\n",
       "     'id': '6566495-2-0',\n",
       "     'question': '서주에는 무엇이 암시되어 있는가?'},\n",
       "    {'answers': [{'text': '제1바이올린', 'answer_start': 148}],\n",
       "     'id': '6566495-2-1',\n",
       "     'question': '첫부분에는 어떤 악기를 사용해 더욱 명확하게 나타내는가?'},\n",
       "    {'answers': [{'text': '소나타 형식', 'answer_start': 272}],\n",
       "     'id': '6566495-2-2',\n",
       "     'question': '주요부는 어떤 형식으로 되어 있는가?'},\n",
       "    {'answers': [{'text': '저음 주제', 'answer_start': 102}],\n",
       "     'id': '6566518-2-0',\n",
       "     'question': '첫 부분의 주요주제를 암시하는 주제는?'},\n",
       "    {'answers': [{'text': 'D장조', 'answer_start': 409}],\n",
       "     'id': '6566518-2-1',\n",
       "     'question': '제2주제의 축소된 재현부의 조성은?'},\n",
       "    {'answers': [{'text': '4/4박자', 'answer_start': 35}],\n",
       "     'id': '5917067-2-0',\n",
       "     'question': '곡이 시작할때의 박자는?'},\n",
       "    {'answers': [{'text': '고뇌와 갈망 동기, 청춘의 사랑 동기', 'answer_start': 115}],\n",
       "     'id': '5917067-2-1',\n",
       "     'question': '이 곡의 주요 주제는?'},\n",
       "    {'answers': [{'text': 'D장조', 'answer_start': 409}],\n",
       "     'id': '5917067-2-2',\n",
       "     'question': '제 2주제에선 무슨 장조로 재현되는가?'}],\n",
       "   'context': '이 작품은 라단조, Sehr gehalten(아주 신중하게), 4/4박자의 부드러운 서주로 서주로 시작되는데, 여기에는 주요 주제, 동기의 대부분이 암시, 예고되어 있다. 첫 부분의 저음 주제는 주요 주제(고뇌와 갈망 동기, 청춘의 사랑 동기)를 암시하고 있으며, 제1바이올린으로 더욱 명확하게 나타난다. 또한 그것을 이어받는 동기도 중요한 역할을 한다. 여기에 새로운 소재가 더해진 뒤에 새로운 주제도 연주된다. 주요부는 Sehr bewegt(아주 격동적으로), 2/2박자의 자유로운 소나타 형식으로 매우 드라마틱한 구상과 유기적인 구성을 하고 있다. 여기에는 지금까지의 주제나 소재 외에도 오보에에 의한 선율과 제2주제를 떠올리게 하는 부차적인 주제가 더해지는데, 중간부에서는 약보3이 중심이 되고 제2주제는 축소된 재현부에서 D장조로 재현된다. 마지막에는 주요 주제를 회상하면서 조용히 마친다.'}],\n",
       " 'title': '파우스트_서곡'}"
      ]
     },
     "execution_count": 26,
     "metadata": {},
     "output_type": "execute_result"
    }
   ],
   "source": [
    "korquad['data'][0]"
   ]
  },
  {
   "cell_type": "code",
   "execution_count": 27,
   "id": "8830b3e9",
   "metadata": {},
   "outputs": [
    {
     "data": {
      "text/plain": [
       "{'qas': [{'answers': [{'text': '교향곡', 'answer_start': 54}],\n",
       "   'id': '6566495-0-0',\n",
       "   'question': '바그너는 괴테의 파우스트를 읽고 무엇을 쓰고자 했는가?'},\n",
       "  {'answers': [{'text': '1악장', 'answer_start': 421}],\n",
       "   'id': '6566495-0-1',\n",
       "   'question': '바그너는 교향곡 작곡을 어디까지 쓴 뒤에 중단했는가?'},\n",
       "  {'answers': [{'text': '베토벤의 교향곡 9번', 'answer_start': 194}],\n",
       "   'id': '6566495-0-2',\n",
       "   'question': '바그너가 파우스트 서곡을 쓸 때 어떤 곡의 영향을 받았는가?'},\n",
       "  {'answers': [{'text': '파우스트', 'answer_start': 15}],\n",
       "   'id': '6566518-0-0',\n",
       "   'question': '1839년 바그너가 교향곡의 소재로 쓰려고 했던 책은?'},\n",
       "  {'answers': [{'text': '합창교향곡', 'answer_start': 354}],\n",
       "   'id': '6566518-0-1',\n",
       "   'question': '파우스트 서곡의 라단조 조성이 영향을 받은 베토벤의 곡은?'},\n",
       "  {'answers': [{'text': '1839', 'answer_start': 0}],\n",
       "   'id': '5917067-0-0',\n",
       "   'question': '바그너가 파우스트를 처음으로 읽은 년도는?'},\n",
       "  {'answers': [{'text': '파리', 'answer_start': 410}],\n",
       "   'id': '5917067-0-1',\n",
       "   'question': '바그너가 처음 교향곡 작곡을 한 장소는?'},\n",
       "  {'answers': [{'text': '드레스덴', 'answer_start': 534}],\n",
       "   'id': '5917067-0-2',\n",
       "   'question': '바그너의 1악장의 초연은 어디서 연주되었는가?'}],\n",
       " 'context': '1839년 바그너는 괴테의 파우스트을 처음 읽고 그 내용에 마음이 끌려 이를 소재로 해서 하나의 교향곡을 쓰려는 뜻을 갖는다. 이 시기 바그너는 1838년에 빛 독촉으로 산전수전을 다 걲은 상황이라 좌절과 실망에 가득했으며 메피스토펠레스를 만나는 파우스트의 심경에 공감했다고 한다. 또한 파리에서 아브네크의 지휘로 파리 음악원 관현악단이 연주하는 베토벤의 교향곡 9번을 듣고 깊은 감명을 받았는데, 이것이 이듬해 1월에 파우스트의 서곡으로 쓰여진 이 작품에 조금이라도 영향을 끼쳤으리라는 것은 의심할 여지가 없다. 여기의 라단조 조성의 경우에도 그의 전기에 적혀 있는 것처럼 단순한 정신적 피로나 실의가 반영된 것이 아니라 베토벤의 합창교향곡 조성의 영향을 받은 것을 볼 수 있다. 그렇게 교향곡 작곡을 1839년부터 40년에 걸쳐 파리에서 착수했으나 1악장을 쓴 뒤에 중단했다. 또한 작품의 완성과 동시에 그는 이 서곡(1악장)을 파리 음악원의 연주회에서 연주할 파트보까지 준비하였으나, 실제로는 이루어지지는 않았다. 결국 초연은 4년 반이 지난 후에 드레스덴에서 연주되었고 재연도 이루어졌지만, 이후에 그대로 방치되고 말았다. 그 사이에 그는 리엔치와 방황하는 네덜란드인을 완성하고 탄호이저에도 착수하는 등 분주한 시간을 보냈는데, 그런 바쁜 생활이 이 곡을 잊게 한 것이 아닌가 하는 의견도 있다.'}"
      ]
     },
     "execution_count": 27,
     "metadata": {},
     "output_type": "execute_result"
    }
   ],
   "source": [
    "para = korquad['data'][0]['paragraphs'][0]\n",
    "para"
   ]
  },
  {
   "cell_type": "code",
   "execution_count": 28,
   "id": "cb81d017",
   "metadata": {},
   "outputs": [
    {
     "data": {
      "text/plain": [
       "'1839년 바그너는 괴테의 파우스트을 처음 읽고 그 내용에 마음이 끌려 이를 소재로 해서 하나의 교향곡을 쓰려는 뜻을 갖는다. 이 시기 바그너는 1838년에 빛 독촉으로 산전수전을 다 걲은 상황이라 좌절과 실망에 가득했으며 메피스토펠레스를 만나는 파우스트의 심경에 공감했다고 한다. 또한 파리에서 아브네크의 지휘로 파리 음악원 관현악단이 연주하는 베토벤의 교향곡 9번을 듣고 깊은 감명을 받았는데, 이것이 이듬해 1월에 파우스트의 서곡으로 쓰여진 이 작품에 조금이라도 영향을 끼쳤으리라는 것은 의심할 여지가 없다. 여기의 라단조 조성의 경우에도 그의 전기에 적혀 있는 것처럼 단순한 정신적 피로나 실의가 반영된 것이 아니라 베토벤의 합창교향곡 조성의 영향을 받은 것을 볼 수 있다. 그렇게 교향곡 작곡을 1839년부터 40년에 걸쳐 파리에서 착수했으나 1악장을 쓴 뒤에 중단했다. 또한 작품의 완성과 동시에 그는 이 서곡(1악장)을 파리 음악원의 연주회에서 연주할 파트보까지 준비하였으나, 실제로는 이루어지지는 않았다. 결국 초연은 4년 반이 지난 후에 드레스덴에서 연주되었고 재연도 이루어졌지만, 이후에 그대로 방치되고 말았다. 그 사이에 그는 리엔치와 방황하는 네덜란드인을 완성하고 탄호이저에도 착수하는 등 분주한 시간을 보냈는데, 그런 바쁜 생활이 이 곡을 잊게 한 것이 아닌가 하는 의견도 있다.'"
      ]
     },
     "execution_count": 28,
     "metadata": {},
     "output_type": "execute_result"
    }
   ],
   "source": [
    "# 지문\n",
    "para['context']"
   ]
  },
  {
   "cell_type": "code",
   "execution_count": 29,
   "id": "99048254",
   "metadata": {},
   "outputs": [
    {
     "data": {
      "text/plain": [
       "{'answers': [{'text': '교향곡', 'answer_start': 54}],\n",
       " 'id': '6566495-0-0',\n",
       " 'question': '바그너는 괴테의 파우스트를 읽고 무엇을 쓰고자 했는가?'}"
      ]
     },
     "execution_count": 29,
     "metadata": {},
     "output_type": "execute_result"
    }
   ],
   "source": [
    "# 질문과 답\n",
    "qas = para['qas'][0]\n",
    "qas"
   ]
  },
  {
   "cell_type": "code",
   "execution_count": 30,
   "id": "a1333d52",
   "metadata": {},
   "outputs": [
    {
     "data": {
      "text/plain": [
       "{'input_ids': <tf.Tensor: shape=(1, 300), dtype=int32, numpy=\n",
       "array([[    2,  8601,  4633, 29697,  1480,  4313,  4538,  4008,   336,\n",
       "         4065,  4042,  3231, 23243,  4104,  4027,  8793, 13985,   391,\n",
       "         9132,  4113, 10966, 11728, 12023, 14657,  4091,  8598, 16639,\n",
       "          341,  4573,  4771,  4027,  2139,  8478, 14416,   214,  8202,\n",
       "           17,  2451, 13007,  1480,  4313,  4538,  4008,  8601,  4633,\n",
       "        22903,  4113,  1676,   868,  4913,  7965,  1789,  4203,  4110,\n",
       "        15031,   786,   250,  4057, 10878,  4007,  2593,  4094,  4128,\n",
       "        10289,  4113, 10958,  4062,  9511,  1355,  4600,  4103,  4775,\n",
       "         5602, 10770,  4180, 26732,  3231, 23243,  4104,  4042,  2015,\n",
       "         4012,  4113,  9198,  8763,  8129,    17, 10384, 23008,  7971,\n",
       "         2170,  4408,  4011,  4147,  4042, 17015,  4091, 23008, 21056,\n",
       "         4165,   323,  4175,  4158, 11413,  2273,  4043,  7966,  1543,\n",
       "         4775,  4170,  4042,   341,  4573,  4771,    28,  4566,  4027,\n",
       "        10599, 18907,   208,  9504, 24835,    15, 11060,  2451,  4780,\n",
       "         4032, 18548,  4113,  3231, 23243,  4104,  4042,  1843,  4771,\n",
       "         7965, 28987,  4153,  2451, 15489,  4113, 13928, 17283,   575,\n",
       "         4261, 26783,  8114,  8852,  9107,  4082, 28498,  8131,    17,\n",
       "         8225,  4042,  1114,  4281,  4194, 17138,  4042,  9961,  8222,\n",
       "        14041, 10892,  4113,  2524,  4443,  8032, 12710, 21602, 18625,\n",
       "        24569,  4136,  2009, 11012, 17068,  4130,  8544,  8141,  1543,\n",
       "         4775,  4170,  4042,  3367,  4183,  4267,  4573,  4771, 17138,\n",
       "         4042, 17283,  9838,  9153,  1576,  1931,  8120,    17,  8117,\n",
       "          341,  4573,  4771,  2478,  4771,  4027,  8601,  4633, 29697,\n",
       "         8042, 25305,  4113,   254,  4133, 23008,  7971,  2840,  4110,\n",
       "         4062, 10410,    20,  4158,  8915,  2141, 11726, 13014,  8258,\n",
       "           17, 10384, 15489,  4042, 16520,  4128, 15831, 20048,  2451,\n",
       "         1843,  4771,    11,    20,  4158,  4099,    12,  2424, 23008,\n",
       "        21056, 18639,  2273,  4043, 27703,  2273,  4043,  4082,  3231,\n",
       "         4104,  4010,  7999,  9242, 22504, 10410,    15, 26271, 11877,\n",
       "         8840,  4008, 12626,    17,  8340,  2906,  4132,  4057, 16243,\n",
       "         1483,  4017,  9403, 14180,   947, 10770,  5076,  7971,  2273,\n",
       "         4043, 24984,     3,  1480,  4313,  4538,  4008,   336,  4065,\n",
       "         4042,  3231, 23243, 19143, 13985, 12449,  9194,  4105,  3385,\n",
       "         9411,    32,     3]], dtype=int32)>, 'token_type_ids': <tf.Tensor: shape=(1, 300), dtype=int32, numpy=\n",
       "array([[0, 0, 0, 0, 0, 0, 0, 0, 0, 0, 0, 0, 0, 0, 0, 0, 0, 0, 0, 0, 0, 0,\n",
       "        0, 0, 0, 0, 0, 0, 0, 0, 0, 0, 0, 0, 0, 0, 0, 0, 0, 0, 0, 0, 0, 0,\n",
       "        0, 0, 0, 0, 0, 0, 0, 0, 0, 0, 0, 0, 0, 0, 0, 0, 0, 0, 0, 0, 0, 0,\n",
       "        0, 0, 0, 0, 0, 0, 0, 0, 0, 0, 0, 0, 0, 0, 0, 0, 0, 0, 0, 0, 0, 0,\n",
       "        0, 0, 0, 0, 0, 0, 0, 0, 0, 0, 0, 0, 0, 0, 0, 0, 0, 0, 0, 0, 0, 0,\n",
       "        0, 0, 0, 0, 0, 0, 0, 0, 0, 0, 0, 0, 0, 0, 0, 0, 0, 0, 0, 0, 0, 0,\n",
       "        0, 0, 0, 0, 0, 0, 0, 0, 0, 0, 0, 0, 0, 0, 0, 0, 0, 0, 0, 0, 0, 0,\n",
       "        0, 0, 0, 0, 0, 0, 0, 0, 0, 0, 0, 0, 0, 0, 0, 0, 0, 0, 0, 0, 0, 0,\n",
       "        0, 0, 0, 0, 0, 0, 0, 0, 0, 0, 0, 0, 0, 0, 0, 0, 0, 0, 0, 0, 0, 0,\n",
       "        0, 0, 0, 0, 0, 0, 0, 0, 0, 0, 0, 0, 0, 0, 0, 0, 0, 0, 0, 0, 0, 0,\n",
       "        0, 0, 0, 0, 0, 0, 0, 0, 0, 0, 0, 0, 0, 0, 0, 0, 0, 0, 0, 0, 0, 0,\n",
       "        0, 0, 0, 0, 0, 0, 0, 0, 0, 0, 0, 0, 0, 0, 0, 0, 0, 0, 0, 0, 0, 0,\n",
       "        0, 0, 0, 0, 0, 0, 0, 0, 0, 0, 0, 0, 0, 0, 0, 0, 0, 0, 1, 1, 1, 1,\n",
       "        1, 1, 1, 1, 1, 1, 1, 1, 1, 1, 1, 1, 1, 1]], dtype=int32)>, 'attention_mask': <tf.Tensor: shape=(1, 300), dtype=int32, numpy=\n",
       "array([[1, 1, 1, 1, 1, 1, 1, 1, 1, 1, 1, 1, 1, 1, 1, 1, 1, 1, 1, 1, 1, 1,\n",
       "        1, 1, 1, 1, 1, 1, 1, 1, 1, 1, 1, 1, 1, 1, 1, 1, 1, 1, 1, 1, 1, 1,\n",
       "        1, 1, 1, 1, 1, 1, 1, 1, 1, 1, 1, 1, 1, 1, 1, 1, 1, 1, 1, 1, 1, 1,\n",
       "        1, 1, 1, 1, 1, 1, 1, 1, 1, 1, 1, 1, 1, 1, 1, 1, 1, 1, 1, 1, 1, 1,\n",
       "        1, 1, 1, 1, 1, 1, 1, 1, 1, 1, 1, 1, 1, 1, 1, 1, 1, 1, 1, 1, 1, 1,\n",
       "        1, 1, 1, 1, 1, 1, 1, 1, 1, 1, 1, 1, 1, 1, 1, 1, 1, 1, 1, 1, 1, 1,\n",
       "        1, 1, 1, 1, 1, 1, 1, 1, 1, 1, 1, 1, 1, 1, 1, 1, 1, 1, 1, 1, 1, 1,\n",
       "        1, 1, 1, 1, 1, 1, 1, 1, 1, 1, 1, 1, 1, 1, 1, 1, 1, 1, 1, 1, 1, 1,\n",
       "        1, 1, 1, 1, 1, 1, 1, 1, 1, 1, 1, 1, 1, 1, 1, 1, 1, 1, 1, 1, 1, 1,\n",
       "        1, 1, 1, 1, 1, 1, 1, 1, 1, 1, 1, 1, 1, 1, 1, 1, 1, 1, 1, 1, 1, 1,\n",
       "        1, 1, 1, 1, 1, 1, 1, 1, 1, 1, 1, 1, 1, 1, 1, 1, 1, 1, 1, 1, 1, 1,\n",
       "        1, 1, 1, 1, 1, 1, 1, 1, 1, 1, 1, 1, 1, 1, 1, 1, 1, 1, 1, 1, 1, 1,\n",
       "        1, 1, 1, 1, 1, 1, 1, 1, 1, 1, 1, 1, 1, 1, 1, 1, 1, 1, 1, 1, 1, 1,\n",
       "        1, 1, 1, 1, 1, 1, 1, 1, 1, 1, 1, 1, 1, 1]], dtype=int32)>}"
      ]
     },
     "execution_count": 30,
     "metadata": {},
     "output_type": "execute_result"
    }
   ],
   "source": [
    "inputs = tokenizer(para['context'], \n",
    "                   qas['question'], \n",
    "                   truncation=True, \n",
    "                   max_length=tokenizer.model_max_length,\n",
    "                   return_tensors='tf')\n",
    "inputs"
   ]
  },
  {
   "cell_type": "code",
   "execution_count": 31,
   "id": "88aef32e",
   "metadata": {},
   "outputs": [],
   "source": [
    "q = qas['answers'][0]\n",
    "\n",
    "# 글자의 위치\n",
    "start_char = q['answer_start']\n",
    "end_char = start_char + len(q['text']) - 1\n",
    "\n",
    "# 토큰의 위치\n",
    "start = inputs.char_to_token(0, start_char)\n",
    "end = inputs.char_to_token(0, end_char)"
   ]
  },
  {
   "cell_type": "code",
   "execution_count": 32,
   "id": "6785de1e",
   "metadata": {},
   "outputs": [
    {
     "name": "stdout",
     "output_type": "stream",
     "text": [
      "54\n",
      "56\n"
     ]
    }
   ],
   "source": [
    "# 글자의 위치\n",
    "print(start_char)\n",
    "print(end_char)"
   ]
  },
  {
   "cell_type": "code",
   "execution_count": 33,
   "id": "f6f938af",
   "metadata": {},
   "outputs": [
    {
     "name": "stdout",
     "output_type": "stream",
     "text": [
      "27\n",
      "29\n"
     ]
    }
   ],
   "source": [
    "# 토큰의 위치\n",
    "print(start)\n",
    "print(end)"
   ]
  },
  {
   "cell_type": "code",
   "execution_count": 34,
   "id": "736fae35",
   "metadata": {
    "scrolled": true
   },
   "outputs": [
    {
     "data": {
      "text/plain": [
       "<tf.Tensor: shape=(1, 300), dtype=int32, numpy=\n",
       "array([[    2,  8601,  4633, 29697,  1480,  4313,  4538,  4008,   336,\n",
       "         4065,  4042,  3231, 23243,  4104,  4027,  8793, 13985,   391,\n",
       "         9132,  4113, 10966, 11728, 12023, 14657,  4091,  8598, 16639,\n",
       "          341,  4573,  4771,  4027,  2139,  8478, 14416,   214,  8202,\n",
       "           17,  2451, 13007,  1480,  4313,  4538,  4008,  8601,  4633,\n",
       "        22903,  4113,  1676,   868,  4913,  7965,  1789,  4203,  4110,\n",
       "        15031,   786,   250,  4057, 10878,  4007,  2593,  4094,  4128,\n",
       "        10289,  4113, 10958,  4062,  9511,  1355,  4600,  4103,  4775,\n",
       "         5602, 10770,  4180, 26732,  3231, 23243,  4104,  4042,  2015,\n",
       "         4012,  4113,  9198,  8763,  8129,    17, 10384, 23008,  7971,\n",
       "         2170,  4408,  4011,  4147,  4042, 17015,  4091, 23008, 21056,\n",
       "         4165,   323,  4175,  4158, 11413,  2273,  4043,  7966,  1543,\n",
       "         4775,  4170,  4042,   341,  4573,  4771,    28,  4566,  4027,\n",
       "        10599, 18907,   208,  9504, 24835,    15, 11060,  2451,  4780,\n",
       "         4032, 18548,  4113,  3231, 23243,  4104,  4042,  1843,  4771,\n",
       "         7965, 28987,  4153,  2451, 15489,  4113, 13928, 17283,   575,\n",
       "         4261, 26783,  8114,  8852,  9107,  4082, 28498,  8131,    17,\n",
       "         8225,  4042,  1114,  4281,  4194, 17138,  4042,  9961,  8222,\n",
       "        14041, 10892,  4113,  2524,  4443,  8032, 12710, 21602, 18625,\n",
       "        24569,  4136,  2009, 11012, 17068,  4130,  8544,  8141,  1543,\n",
       "         4775,  4170,  4042,  3367,  4183,  4267,  4573,  4771, 17138,\n",
       "         4042, 17283,  9838,  9153,  1576,  1931,  8120,    17,  8117,\n",
       "          341,  4573,  4771,  2478,  4771,  4027,  8601,  4633, 29697,\n",
       "         8042, 25305,  4113,   254,  4133, 23008,  7971,  2840,  4110,\n",
       "         4062, 10410,    20,  4158,  8915,  2141, 11726, 13014,  8258,\n",
       "           17, 10384, 15489,  4042, 16520,  4128, 15831, 20048,  2451,\n",
       "         1843,  4771,    11,    20,  4158,  4099,    12,  2424, 23008,\n",
       "        21056, 18639,  2273,  4043, 27703,  2273,  4043,  4082,  3231,\n",
       "         4104,  4010,  7999,  9242, 22504, 10410,    15, 26271, 11877,\n",
       "         8840,  4008, 12626,    17,  8340,  2906,  4132,  4057, 16243,\n",
       "         1483,  4017,  9403, 14180,   947, 10770,  5076,  7971,  2273,\n",
       "         4043, 24984,     3,  1480,  4313,  4538,  4008,   336,  4065,\n",
       "         4042,  3231, 23243, 19143, 13985, 12449,  9194,  4105,  3385,\n",
       "         9411,    32,     3]], dtype=int32)>"
      ]
     },
     "execution_count": 34,
     "metadata": {},
     "output_type": "execute_result"
    }
   ],
   "source": [
    "inputs['input_ids']"
   ]
  },
  {
   "cell_type": "code",
   "execution_count": 35,
   "id": "664b99c1",
   "metadata": {},
   "outputs": [
    {
     "data": {
      "text/plain": [
       "'교향곡'"
      ]
     },
     "execution_count": 35,
     "metadata": {},
     "output_type": "execute_result"
    }
   ],
   "source": [
    "# 정답을 실제 텍스트로 변환\n",
    "tokenizer.decode(inputs['input_ids'].numpy()[0, start:end+1])"
   ]
  },
  {
   "cell_type": "code",
   "execution_count": 36,
   "id": "c7bc7f7b",
   "metadata": {},
   "outputs": [],
   "source": [
    "inputs['start_positions'] = [start]\n",
    "inputs['end_positions'] = [end]"
   ]
  },
  {
   "cell_type": "markdown",
   "id": "04057a96",
   "metadata": {},
   "source": [
    "## TFRecord로 저장\n"
   ]
  },
  {
   "cell_type": "code",
   "execution_count": 37,
   "id": "e7bb66f9",
   "metadata": {},
   "outputs": [],
   "source": [
    "def int_feature(value):\n",
    "    return tf.train.Feature(int64_list=tf.train.Int64List(value=value))\n",
    "\n",
    "def make_inputs(context, qas):\n",
    "    inputs = tokenizer(\n",
    "        context, \n",
    "        qas['question'], \n",
    "        truncation=True, \n",
    "        max_length=tokenizer.model_max_length)\n",
    "    q = qas['answers'][0]\n",
    "    start_char = q['answer_start']\n",
    "    end_char = start_char + len(q['text']) - 1\n",
    "    start = inputs.char_to_token(0, start_char)\n",
    "    end = inputs.char_to_token(0, end_char)\n",
    "    inputs['start_positions'] = [start]\n",
    "    inputs['end_positions'] = [end]\n",
    "    return inputs"
   ]
  },
  {
   "cell_type": "code",
   "execution_count": 38,
   "id": "219e8447",
   "metadata": {},
   "outputs": [
    {
     "name": "stdout",
     "output_type": "stream",
     "text": [
      "CPU times: user 57.4 s, sys: 638 ms, total: 58 s\n",
      "Wall time: 59 s\n"
     ]
    }
   ],
   "source": [
    "%%time\n",
    "n = 0\n",
    "filename = 'korquad.tfrecord'\n",
    "with tf.io.TFRecordWriter(filename) as writer:\n",
    "    for item in korquad['data']:   # 각 아이템 순환\n",
    "        for para in item['paragraphs']:  # 아이템마다 \n",
    "            context = para['context']\n",
    "            for qas in para['qas']:\n",
    "                inputs = make_inputs(context, qas)\n",
    "                if inputs['start_positions'][0] and inputs['end_positions'][0]:\n",
    "                    feature = {k: int_feature(v) for k, v in inputs.items()}\n",
    "                    example = tf.train.Example(features=tf.train.Features(feature=feature))\n",
    "                    s = example.SerializeToString()\n",
    "                    writer.write(s)\n",
    "                    n += 1\n"
   ]
  },
  {
   "cell_type": "code",
   "execution_count": 39,
   "id": "2aeddc5a",
   "metadata": {},
   "outputs": [
    {
     "data": {
      "text/plain": [
       "57653"
      ]
     },
     "execution_count": 39,
     "metadata": {},
     "output_type": "execute_result"
    }
   ],
   "source": [
    "# 사례 수\n",
    "n"
   ]
  },
  {
   "cell_type": "markdown",
   "id": "e8c0aa7f",
   "metadata": {},
   "source": [
    "## 불러오기"
   ]
  },
  {
   "cell_type": "code",
   "execution_count": 40,
   "id": "bda09247",
   "metadata": {},
   "outputs": [],
   "source": [
    "int_seq = tf.io.FixedLenSequenceFeature(shape=(), dtype=tf.int64, allow_missing=True)\n",
    "int_value = tf.io.FixedLenFeature(shape=(), dtype=tf.int64)\n",
    "feature_description = {\n",
    "    'input_ids': int_seq,\n",
    "    'token_type_ids': int_seq,\n",
    "    'attention_mask': int_seq,\n",
    "    'start_positions': int_value,\n",
    "    'end_positions': int_value\n",
    "}\n"
   ]
  },
  {
   "cell_type": "code",
   "execution_count": 41,
   "id": "629b591c",
   "metadata": {},
   "outputs": [],
   "source": [
    "def preproc(example):\n",
    "    example = tf.io.parse_single_example(example, feature_description)\n",
    "    example = {k : tf.cast(v, tf.int32) for k, v in example.items()}\n",
    "    return example"
   ]
  },
  {
   "cell_type": "code",
   "execution_count": 42,
   "id": "556df875",
   "metadata": {},
   "outputs": [],
   "source": [
    "# korquad 데이터셋 불러오기\n",
    "dataset = tf.data.TFRecordDataset(['korquad.tfrecord']).map(preproc).padded_batch(8)\n",
    "batch = next(iter(dataset))\n",
    "result = model(batch)"
   ]
  },
  {
   "cell_type": "markdown",
   "id": "f7026fc4",
   "metadata": {},
   "source": [
    "## 수동으로 학습"
   ]
  },
  {
   "cell_type": "raw",
   "id": "d6786a8f",
   "metadata": {},
   "source": [
    "gpu : 1시간 5분"
   ]
  },
  {
   "cell_type": "code",
   "execution_count": null,
   "id": "registered-williams",
   "metadata": {
    "scrolled": true
   },
   "outputs": [
    {
     "data": {
      "application/vnd.jupyter.widget-view+json": {
       "model_id": "f33b2c149b374dafa5c003c2b24603b5",
       "version_major": 2,
       "version_minor": 0
      },
      "text/plain": [
       "  0%|          | 0/1802 [00:00<?, ?it/s]"
      ]
     },
     "metadata": {},
     "output_type": "display_data"
    }
   ],
   "source": [
    "%%time\n",
    "# 옵티마이저는 adam\n",
    "opt = tf.keras.optimizers.Adam(learning_rate=5e-5)\n",
    "\n",
    "n = 57653\n",
    "for batch in tqdm.notebook.tqdm(dataset, total=math.ceil(n / 32)):\n",
    "    with tf.GradientTape() as tape:\n",
    "        result = model(batch)\n",
    "        loss = tf.reduce_mean(result['loss'])\n",
    "    grads = tape.gradient(loss, model.trainable_variables)\n",
    "    opt.apply_gradients(zip(grads, model.trainable_variables)) # loss가 감소하는 방향으로 파라미터 업데이트"
   ]
  },
  {
   "cell_type": "code",
   "execution_count": 86,
   "id": "sharing-efficiency",
   "metadata": {},
   "outputs": [
    {
     "data": {
      "text/plain": [
       "<transformers.models.bert.modeling_tf_bert.TFBertForQuestionAnswering at 0x7f2190fc23c8>"
      ]
     },
     "execution_count": 86,
     "metadata": {},
     "output_type": "execute_result"
    }
   ],
   "source": [
    "model"
   ]
  },
  {
   "cell_type": "code",
   "execution_count": 62,
   "id": "da76202a",
   "metadata": {},
   "outputs": [],
   "source": [
    "context = '윤여정은 1966년 연극 배우로 연기 경력을 시작하였고, 2021년 영화 《미나리》의 순자 역으로 아카데미 여우조연상을 수상했다.'"
   ]
  },
  {
   "cell_type": "code",
   "execution_count": 43,
   "id": "6b5bd949",
   "metadata": {},
   "outputs": [],
   "source": [
    "def qa2(question, context):\n",
    "    inputs = tokenizer(context, question, add_special_tokens=True, return_tensors=\"tf\")\n",
    "    outputs = model(inputs)\n",
    "    start = tf.argmax(outputs.start_logits, axis=1).numpy()[0]\n",
    "    end = tf.argmax(outputs.end_logits, axis=1).numpy()[0]\n",
    "    return tokenizer.decode(inputs['input_ids'][0, start:end+1])"
   ]
  },
  {
   "cell_type": "code",
   "execution_count": 63,
   "id": "suitable-arizona",
   "metadata": {},
   "outputs": [
    {
     "data": {
      "text/plain": [
       "'1966년'"
      ]
     },
     "execution_count": 63,
     "metadata": {},
     "output_type": "execute_result"
    }
   ],
   "source": [
    "qa2('윤여정은 언제 연기를 시작했나?', context)"
   ]
  },
  {
   "cell_type": "code",
   "execution_count": 64,
   "id": "4bddbd86",
   "metadata": {},
   "outputs": [
    {
     "data": {
      "text/plain": [
       "'2021년'"
      ]
     },
     "execution_count": 64,
     "metadata": {},
     "output_type": "execute_result"
    }
   ],
   "source": [
    "qa2('윤여정은 언제 상을 받았나?', context)"
   ]
  },
  {
   "cell_type": "code",
   "execution_count": 65,
   "id": "elect-milan",
   "metadata": {},
   "outputs": [
    {
     "data": {
      "text/plain": [
       "'연극 배우'"
      ]
     },
     "execution_count": 65,
     "metadata": {},
     "output_type": "execute_result"
    }
   ],
   "source": [
    "qa2('윤여정의 직업은?', context)"
   ]
  },
  {
   "cell_type": "code",
   "execution_count": 67,
   "id": "hazardous-venice",
   "metadata": {},
   "outputs": [
    {
     "data": {
      "text/plain": [
       "'순자 역으로 아카데미 여우조연상을'"
      ]
     },
     "execution_count": 67,
     "metadata": {},
     "output_type": "execute_result"
    }
   ],
   "source": [
    "qa2('윤여정이 2021년 받은 상은?', context)"
   ]
  },
  {
   "cell_type": "code",
   "execution_count": 68,
   "id": "f3d78292",
   "metadata": {},
   "outputs": [
    {
     "data": {
      "text/plain": [
       "'미나리'"
      ]
     },
     "execution_count": 68,
     "metadata": {},
     "output_type": "execute_result"
    }
   ],
   "source": [
    "qa2('윤여정의 2021년 출연작은?', context)"
   ]
  },
  {
   "cell_type": "code",
   "execution_count": 71,
   "id": "3a743667",
   "metadata": {},
   "outputs": [
    {
     "data": {
      "text/plain": [
       "'순자'"
      ]
     },
     "execution_count": 71,
     "metadata": {},
     "output_type": "execute_result"
    }
   ],
   "source": [
    "qa2('윤여정이 미나리에서 맡았던 역할은?', context)"
   ]
  },
  {
   "cell_type": "code",
   "execution_count": 70,
   "id": "8237ba4f",
   "metadata": {},
   "outputs": [
    {
     "data": {
      "text/plain": [
       "'순자'"
      ]
     },
     "execution_count": 70,
     "metadata": {},
     "output_type": "execute_result"
    }
   ],
   "source": [
    "qa2('윤여정이 미나리에서 맡았던 역은?', context)"
   ]
  },
  {
   "cell_type": "code",
   "execution_count": 72,
   "id": "175cd28a",
   "metadata": {},
   "outputs": [
    {
     "data": {
      "text/plain": [
       "'미나리'"
      ]
     },
     "execution_count": 72,
     "metadata": {},
     "output_type": "execute_result"
    }
   ],
   "source": [
    "qa2('윤여정은 2021년 무엇을 했는가?', context)"
   ]
  },
  {
   "cell_type": "code",
   "execution_count": 73,
   "id": "eb4ede75",
   "metadata": {
    "scrolled": true
   },
   "outputs": [
    {
     "data": {
      "text/plain": [
       "'윤여정은'"
      ]
     },
     "execution_count": 73,
     "metadata": {},
     "output_type": "execute_result"
    }
   ],
   "source": [
    "qa2('1966년 연극 배우로 연기 경력을 시작한 사람은 누구인가?', context)"
   ]
  },
  {
   "cell_type": "code",
   "execution_count": 76,
   "id": "6aba0372",
   "metadata": {},
   "outputs": [
    {
     "data": {
      "text/plain": [
       "'윤여정은'"
      ]
     },
     "execution_count": 76,
     "metadata": {},
     "output_type": "execute_result"
    }
   ],
   "source": [
    "qa2('미나리로 상을 받은 사람은 누구인가?', context)"
   ]
  },
  {
   "cell_type": "code",
   "execution_count": null,
   "id": "d2ac8bae",
   "metadata": {},
   "outputs": [],
   "source": []
  }
 ],
 "metadata": {
  "kernelspec": {
   "display_name": "Python 3",
   "language": "python",
   "name": "python3"
  },
  "language_info": {
   "codemirror_mode": {
    "name": "ipython",
    "version": 3
   },
   "file_extension": ".py",
   "mimetype": "text/x-python",
   "name": "python",
   "nbconvert_exporter": "python",
   "pygments_lexer": "ipython3",
   "version": "3.8.8"
  },
  "toc": {
   "base_numbering": 1,
   "nav_menu": {},
   "number_sections": true,
   "sideBar": true,
   "skip_h1_title": false,
   "title_cell": "Table of Contents",
   "title_sidebar": "Contents",
   "toc_cell": false,
   "toc_position": {},
   "toc_section_display": true,
   "toc_window_display": false
  },
  "varInspector": {
   "cols": {
    "lenName": 16,
    "lenType": 16,
    "lenVar": 40
   },
   "kernels_config": {
    "python": {
     "delete_cmd_postfix": "",
     "delete_cmd_prefix": "del ",
     "library": "var_list.py",
     "varRefreshCmd": "print(var_dic_list())"
    },
    "r": {
     "delete_cmd_postfix": ") ",
     "delete_cmd_prefix": "rm(",
     "library": "var_list.r",
     "varRefreshCmd": "cat(var_dic_list()) "
    }
   },
   "types_to_exclude": [
    "module",
    "function",
    "builtin_function_or_method",
    "instance",
    "_Feature"
   ],
   "window_display": false
  }
 },
 "nbformat": 4,
 "nbformat_minor": 5
}
